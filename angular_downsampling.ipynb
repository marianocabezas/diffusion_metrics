{
 "cells": [
  {
   "cell_type": "code",
   "execution_count": null,
   "id": "df2ff977",
   "metadata": {
    "pycharm": {
     "name": "#%%\n"
    }
   },
   "outputs": [],
   "source": [
    "from downsampling import extract_single_shell\n",
    "\n",
    "\n",
    "bval = 1000\n",
    "bval_range = 20\n",
    "directions = [6, 12, 18, 24, 32, 64]\n",
    "\n",
    "path = '/home/mariano/Downloads/DTI'\n",
    "dwi_in = '100307_DWI_processed_b1000.mif.gz'\n",
    "dwi_in = os.path.join(path, dwi_in)\n",
    "\n",
    "for i, dir_i in enumerate(directions):\n",
    "    sub = os.path.basename(dwi_in).split('_')[0]\n",
    "    print(' '.join([' '] * 300), end='\\r')\n",
    "    print('Subject {:} [{:02d}/{:02d}]'.format(\n",
    "        sub, i + 1, len(dwi_files)\n",
    "    ), end='\\r')\n",
    "    \n",
    "    image = os.path.basename(dwi_in)\n",
    "\n",
    "    print(' '.join([' '] * 300), end='\\r')\n",
    "    print('Reading the MIF file {:} [{:02d}/{:02d}]'.format(\n",
    "        sub, i + 1, len(dwi_files)\n",
    "    ), end='\\r')\n",
    "    mif = load_mrtrix(dwi_in)\n",
    "    old_grad = mif.grad\n",
    "    bvals = old_grad[:, -1]\n",
    "    bvecs = old_grad[:, :-1]\n",
    "    \n",
    "    print(' '.join([' '] * 300), end='\\r')\n",
    "    print('Downsampling {:} [{:02d}/{:02d}]'.format(\n",
    "        sub, i + 1, len(dwi_files)\n",
    "    ), end='\\r')\n",
    "    lr_bvecs, lr_bvals, lr_index, b0_index = extract_single_shell(\n",
    "        bvals, bvecs, bval, bval_range, dir_i\n",
    "    )\n",
    "    lr_index = np.array(lr_index.tolist())\n",
    "    lr_bvals = np.array([0] + lr_bvals.tolist())\n",
    "    lr_bvecs = np.concatenate([np.zeros((1, 3)), lr_bvecs])\n",
    "    new_grad = np.concatenate([lr_bvecs, lr_bvals.reshape(-1, 1)], axis=-1)\n",
    "\n",
    "    mif_b0 = np.mean(mif.data[..., b0_index], axis=-1, keepdims=True)\n",
    "    f_data = np.concatenate([mif_b0, mif.data[..., lr_index]], axis=-1)\n",
    "\n",
    "    mif.data = f_data\n",
    "    mif.grad = new_grad\n",
    "\n",
    "    print(' '.join([' '] * 300), end='\\r')\n",
    "    print('Converting to MIF (Downsampled) {:} [{:02d}/{:02d}]'.format(\n",
    "        sub, i + 1, len(dwi_files)\n",
    "    ), end='\\r')\n",
    "    out_name = os.path.join(\n",
    "        path, '{:}_{:}dir.mif.gz'.format(\n",
    "            image.split('.')[0], dir_i\n",
    "        )\n",
    "    )\n",
    "    mif.save(out_name)"
   ]
  }
 ],
 "metadata": {
  "kernelspec": {
   "display_name": "Python 3",
   "language": "python",
   "name": "python3"
  },
  "language_info": {
   "codemirror_mode": {
    "name": "ipython",
    "version": 3
   },
   "file_extension": ".py",
   "mimetype": "text/x-python",
   "name": "python",
   "nbconvert_exporter": "python",
   "pygments_lexer": "ipython3",
   "version": "3.7.5"
  }
 },
 "nbformat": 4,
 "nbformat_minor": 5
}